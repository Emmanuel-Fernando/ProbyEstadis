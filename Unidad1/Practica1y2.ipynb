{
  "nbformat": 4,
  "nbformat_minor": 0,
  "metadata": {
    "colab": {
      "provenance": [],
      "include_colab_link": true
    },
    "kernelspec": {
      "name": "python3",
      "display_name": "Python 3"
    },
    "language_info": {
      "name": "python"
    }
  },
  "cells": [
    {
      "cell_type": "markdown",
      "metadata": {
        "id": "view-in-github",
        "colab_type": "text"
      },
      "source": [
        "<a href=\"https://colab.research.google.com/github/Emmanuel-Fernando/ProbyEstadis/blob/main/Unidad1/Practica1y2.ipynb\" target=\"_parent\"><img src=\"https://colab.research.google.com/assets/colab-badge.svg\" alt=\"Open In Colab\"/></a>"
      ]
    },
    {
      "cell_type": "markdown",
      "source": [
        "# Instituto Tecnologico de Durango\n",
        "## Probabilidad y Estadistica\n",
        "### Alumno:Emmanuel Fernando Alcala Acosta\n",
        "### Docente: José Gabriel Rodriguez Rivas\n",
        "## Ejemplo 1 y 2"
      ],
      "metadata": {
        "id": "TKpTxI3Sv3gF"
      }
    },
    {
      "cell_type": "code",
      "execution_count": 2,
      "metadata": {
        "id": "rsRYOBh2FL67"
      },
      "outputs": [],
      "source": [
        "\n",
        "from statistics import *\n",
        "\n",
        "\n",
        "# Lista de calififcaciones del grupo a de probabilidad y estadistica\n",
        "\n"
      ]
    },
    {
      "cell_type": "code",
      "source": [
        "\n",
        "grupoa = [70, 70, 65, 90, 100, 95, 45, 80, 73, 20, 100, 96]\n",
        "print(grupoa)"
      ],
      "metadata": {
        "colab": {
          "base_uri": "https://localhost:8080/"
        },
        "id": "Y8-3nEnFMBO0",
        "outputId": "f272e200-3f57-4e50-d01c-978581d70c43"
      },
      "execution_count": 3,
      "outputs": [
        {
          "output_type": "stream",
          "name": "stdout",
          "text": [
            "[70, 70, 65, 90, 100, 95, 45, 80, 73, 20, 100, 96]\n"
          ]
        }
      ]
    },
    {
      "cell_type": "code",
      "source": [
        "\n",
        "type(grupoa)\n",
        "# Sacar la media de la calificacioness con una formula\n",
        "\n",
        "promedio = sum(grupoa) / len(grupoa)\n",
        "print(grupoa)\n"
      ],
      "metadata": {
        "colab": {
          "base_uri": "https://localhost:8080/"
        },
        "id": "_S0nbZQ_GUub",
        "outputId": "3b8a14b0-a88d-4cbb-bc86-29567e8d4b9b"
      },
      "execution_count": 4,
      "outputs": [
        {
          "output_type": "stream",
          "name": "stdout",
          "text": [
            "[70, 70, 65, 90, 100, 95, 45, 80, 73, 20, 100, 96]\n"
          ]
        }
      ]
    },
    {
      "cell_type": "code",
      "source": [
        "#Utilizar la función mean que esta en la librería statistics para sacar el prmedio\n",
        "promedio2 = mean(grupoa)\n",
        "print(promedio2)"
      ],
      "metadata": {
        "colab": {
          "base_uri": "https://localhost:8080/"
        },
        "id": "mDdFYpdLGvEG",
        "outputId": "3705a8ab-7d43-492a-8062-3351bb91d8ae"
      },
      "execution_count": 5,
      "outputs": [
        {
          "output_type": "stream",
          "name": "stdout",
          "text": [
            "75.33333333333333\n"
          ]
        }
      ]
    },
    {
      "cell_type": "code",
      "source": [
        "#Determinar el valor de la moda con la función mode\n",
        "\n",
        "moda = mode(grupoa)\n",
        "print(moda)"
      ],
      "metadata": {
        "colab": {
          "base_uri": "https://localhost:8080/"
        },
        "id": "jF-AMSGmGyr8",
        "outputId": "850c31a9-c93b-43ea-e3d6-6535c56495fc"
      },
      "execution_count": 6,
      "outputs": [
        {
          "output_type": "stream",
          "name": "stdout",
          "text": [
            "70\n"
          ]
        }
      ]
    },
    {
      "cell_type": "code",
      "source": [
        "# En caso de que exista más de una moda, se puede emplear la función multimode para sacar las multiples modas que puedan existir\n",
        "\n",
        "moda2 = multimode(grupoa)\n",
        "print(moda2)"
      ],
      "metadata": {
        "colab": {
          "base_uri": "https://localhost:8080/"
        },
        "id": "Rcip6fFQG3pU",
        "outputId": "1bb3d581-0621-4290-b10c-ebec01a2791d"
      },
      "execution_count": 7,
      "outputs": [
        {
          "output_type": "stream",
          "name": "stdout",
          "text": [
            "[70, 100]\n"
          ]
        }
      ]
    },
    {
      "cell_type": "markdown",
      "source": [],
      "metadata": {
        "id": "fKU9rLqBckUV"
      }
    },
    {
      "cell_type": "code",
      "source": [
        "\n",
        "import random\n",
        "import matplotlib.pyplot as plt\n",
        "\n",
        "tiempos100mts = [15.10,17.20,14.69,13.27,22.15,18.71,19.15,20.65,15.10,17.20]\n",
        "print(tiempos100mts)"
      ],
      "metadata": {
        "colab": {
          "base_uri": "https://localhost:8080/"
        },
        "id": "hr8Riq58ct7b",
        "outputId": "7aefd688-cc67-45db-9e85-1f4f2d17303a"
      },
      "execution_count": 8,
      "outputs": [
        {
          "output_type": "stream",
          "name": "stdout",
          "text": [
            "[15.1, 17.2, 14.69, 13.27, 22.15, 18.71, 19.15, 20.65, 15.1, 17.2]\n"
          ]
        }
      ]
    },
    {
      "cell_type": "code",
      "source": [
        "\n",
        "print(\"el tiempo promedio de los corredores es=> \", mean(tiempos100mts) )"
      ],
      "metadata": {
        "id": "dVLAWK3Wcx25",
        "colab": {
          "base_uri": "https://localhost:8080/"
        },
        "outputId": "ad5561fd-a885-4147-ee41-67cc0f83f34f"
      },
      "execution_count": 9,
      "outputs": [
        {
          "output_type": "stream",
          "name": "stdout",
          "text": [
            "el tiempo promedio de los corredores es=>  17.322\n"
          ]
        }
      ]
    },
    {
      "cell_type": "code",
      "source": [
        "mediana = median (tiempos100mts)\n",
        "print(\"la media de los tiempos de los corredores es=> \", mediana)"
      ],
      "metadata": {
        "colab": {
          "base_uri": "https://localhost:8080/"
        },
        "id": "ijIOTcyVc1UU",
        "outputId": "78e1d4e7-63b2-40af-8e95-f16435c4fb08"
      },
      "execution_count": 10,
      "outputs": [
        {
          "output_type": "stream",
          "name": "stdout",
          "text": [
            "la media de los tiempos de los corredores es=>  17.2\n"
          ]
        }
      ]
    },
    {
      "cell_type": "code",
      "source": [
        "moda = mode(tiempos100mts)\n",
        "print(\"la moda de los tiempos es => \",moda)"
      ],
      "metadata": {
        "colab": {
          "base_uri": "https://localhost:8080/"
        },
        "id": "dGAuJ-ABc63J",
        "outputId": "45177e7d-82f5-404e-df0b-8df556a0ce26"
      },
      "execution_count": 11,
      "outputs": [
        {
          "output_type": "stream",
          "name": "stdout",
          "text": [
            "la moda de los tiempos es =>  15.1\n"
          ]
        }
      ]
    },
    {
      "cell_type": "code",
      "source": [
        "Multimodas = multimode(tiempos100mts)\n",
        "print(\"la moda de los tiempos es => \",Multimodas)"
      ],
      "metadata": {
        "colab": {
          "base_uri": "https://localhost:8080/"
        },
        "id": "RNuvSwiMc4lq",
        "outputId": "64e78d34-91ae-49fd-b662-7e1c5b006e4a"
      },
      "execution_count": 12,
      "outputs": [
        {
          "output_type": "stream",
          "name": "stdout",
          "text": [
            "la moda de los tiempos es =>  [15.1, 17.2]\n"
          ]
        }
      ]
    },
    {
      "cell_type": "markdown",
      "source": [
        "3"
      ],
      "metadata": {
        "id": "jmAG4L60d3Fi"
      }
    },
    {
      "cell_type": "code",
      "source": [
        "fabrica1 = []\n",
        "for i in range(100):\n",
        "  numero_aleatorio = round( random.uniform(50,100), 2)\n",
        "  fabrica1.append(numero_aleatorio)\n",
        "print(fabrica1)\n"
      ],
      "metadata": {
        "colab": {
          "base_uri": "https://localhost:8080/"
        },
        "id": "hE5uZNx1d4Bg",
        "outputId": "51e150a3-128e-41dc-dee4-aa52ad043344"
      },
      "execution_count": 13,
      "outputs": [
        {
          "output_type": "stream",
          "name": "stdout",
          "text": [
            "[96.24, 52.77, 70.72, 90.25, 71.76, 63.92, 67.48, 71.51, 58.1, 96.29, 50.22, 54.34, 51.04, 78.91, 66.23, 99.07, 83.47, 73.45, 67.12, 54.45, 50.08, 56.48, 85.14, 63.31, 71.79, 88.4, 86.28, 98.85, 82.15, 66.93, 89.77, 79.67, 81.64, 91.41, 63.55, 98.41, 99.05, 52.75, 70.56, 55.33, 57.49, 84.81, 60.67, 81.8, 92.66, 50.42, 62.91, 67.8, 63.55, 68.8, 98.43, 99.32, 93.17, 73.53, 62.56, 82.71, 60.08, 70.68, 55.83, 91.09, 71.62, 78.0, 73.86, 89.89, 51.17, 66.74, 65.99, 75.74, 88.45, 53.48, 98.1, 62.79, 89.88, 61.96, 72.89, 70.14, 90.51, 53.26, 51.06, 53.48, 73.5, 75.5, 86.74, 96.41, 82.34, 76.05, 63.98, 72.64, 54.93, 69.37, 69.41, 88.92, 63.33, 90.18, 85.06, 58.57, 55.72, 61.06, 89.49, 54.54]\n"
          ]
        }
      ]
    },
    {
      "cell_type": "code",
      "source": [
        "fabrica2 = []\n",
        "for i in range(100):\n",
        "  numero_aleatorio2 = round( random.uniform(50,100), 2)\n",
        "  fabrica2.append(numero_aleatorio2)\n",
        "print(fabrica2)"
      ],
      "metadata": {
        "colab": {
          "base_uri": "https://localhost:8080/"
        },
        "id": "PDgfFl5-c-xc",
        "outputId": "9aab848e-78c6-4017-fb44-95d56deedce9"
      },
      "execution_count": 14,
      "outputs": [
        {
          "output_type": "stream",
          "name": "stdout",
          "text": [
            "[62.75, 50.88, 58.04, 52.57, 83.12, 51.6, 73.02, 73.69, 78.2, 73.13, 60.72, 74.5, 84.99, 70.38, 89.43, 79.45, 50.53, 93.8, 90.92, 60.61, 75.37, 59.47, 85.24, 94.38, 57.26, 68.31, 77.74, 63.63, 78.0, 95.49, 81.56, 78.37, 67.69, 76.73, 82.81, 53.25, 91.84, 55.13, 53.44, 56.44, 73.94, 50.84, 62.27, 76.25, 51.25, 76.76, 88.68, 73.09, 57.35, 94.29, 61.24, 69.25, 62.28, 61.44, 86.21, 88.28, 91.43, 99.67, 77.38, 83.51, 93.81, 93.86, 83.3, 71.95, 76.91, 72.61, 54.48, 50.74, 65.29, 72.97, 99.11, 63.48, 59.21, 89.57, 58.17, 52.26, 51.08, 99.54, 56.05, 56.97, 97.42, 56.68, 69.67, 77.5, 50.42, 61.03, 99.8, 90.15, 63.49, 66.79, 56.66, 67.27, 84.57, 65.79, 89.4, 86.01, 75.85, 88.05, 95.69, 98.93]\n"
          ]
        }
      ]
    },
    {
      "cell_type": "code",
      "source": [
        "plt.hist(fabrica1)\n",
        "plt.title(\"Produccion diaria de la Fabrica 1\")\n",
        "plt.text(0.5, 1.0, 'Produccion diaria de la Fabrica 1')"
      ],
      "metadata": {
        "colab": {
          "base_uri": "https://localhost:8080/",
          "height": 469
        },
        "id": "1h-HGHOZeAGX",
        "outputId": "9f9fe4bd-12b5-4d79-9eea-824ad0cbb191"
      },
      "execution_count": 15,
      "outputs": [
        {
          "output_type": "execute_result",
          "data": {
            "text/plain": [
              "Text(0.5, 1.0, 'Produccion diaria de la Fabrica 1')"
            ]
          },
          "metadata": {},
          "execution_count": 15
        },
        {
          "output_type": "display_data",
          "data": {
            "text/plain": [
              "<Figure size 640x480 with 1 Axes>"
            ],
            "image/png": "[encoded data removed]"
          },
          "metadata": {}
        }
      ]
    },
    {
      "cell_type": "code",
      "source": [
        "from statistics import *"
      ],
      "metadata": {
        "id": "u79uMyDthfCN"
      },
      "execution_count": 16,
      "outputs": []
    },
    {
      "cell_type": "markdown",
      "source": [
        "06 FEB"
      ],
      "metadata": {
        "id": "DJCrbXxweE87"
      }
    },
    {
      "cell_type": "code",
      "source": [
        "\n",
        "media1 = mean(fabrica1)\n",
        "mediana1= median(fabrica1)\n",
        "moda1= mode (fabrica1)\n",
        "print(\"Valores de la fabrica 1\")\n",
        "print(\"La media es igual => \", media1)\n",
        "print(\"La mediana es igual => \", mediana1)\n",
        "print(\"La moda es igual => \", moda1)\n"
      ],
      "metadata": {
        "colab": {
          "base_uri": "https://localhost:8080/"
        },
        "id": "kl_BbGAFeIeZ",
        "outputId": "b4543311-23e2-4e62-e33c-fb453b9ded55"
      },
      "execution_count": 17,
      "outputs": [
        {
          "output_type": "stream",
          "name": "stdout",
          "text": [
            "Valores de la fabrica 1\n",
            "La media es igual =>  73.1395\n",
            "La mediana es igual =>  71.565\n",
            "La moda es igual =>  63.55\n"
          ]
        }
      ]
    },
    {
      "cell_type": "code",
      "source": [
        "media2 = mean(fabrica2)\n",
        "mediana2= median(fabrica2)\n",
        "moda2= mode (fabrica2)\n",
        "print(\"Valores de la fabrica 2\")\n",
        "print(\"La media es igual => \", media2)\n",
        "print(\"La mediana es igual => \", mediana2)\n",
        "print(\"La moda es igual => \", moda2)\n"
      ],
      "metadata": {
        "colab": {
          "base_uri": "https://localhost:8080/"
        },
        "id": "LkwZtc7uehqd",
        "outputId": "d1ab023c-6882-4a44-cb9d-827fd40d5ad5"
      },
      "execution_count": 18,
      "outputs": [
        {
          "output_type": "stream",
          "name": "stdout",
          "text": [
            "Valores de la fabrica 2\n",
            "La media es igual =>  73.1242\n",
            "La mediana es igual =>  73.11\n",
            "La moda es igual =>  62.75\n"
          ]
        }
      ]
    },
    {
      "cell_type": "code",
      "source": [
        "fig,(ax1,ax2) = plt.subplots(nrows=1, ncols=2, figsize=(10,5))\n",
        "ax1.hist(fabrica1)\n",
        "ax2.hist(fabrica2)\n",
        "plt.show()"
      ],
      "metadata": {
        "colab": {
          "base_uri": "https://localhost:8080/",
          "height": 445
        },
        "id": "bxvEmdppgegr",
        "outputId": "07469847-129c-4e27-fb92-d4fe623e8db4"
      },
      "execution_count": 19,
      "outputs": [
        {
          "output_type": "display_data",
          "data": {
            "text/plain": [
              "<Figure size 1000x500 with 2 Axes>"
            ],
            "image/png": "[encoded data removed]"
          },
          "metadata": {}
        }
      ]
    },
    {
      "cell_type": "code",
      "source": [
        "plt.hist(fabrica1, bins=10, alpha=0.2,color='b',edgecolor=\"black\")\n",
        "plt.axvline(media1,color='b',linestyle='dashed',linewidth=2, label='media')\n",
        "plt.axvline(mediana1,color='r',linestyle='dashed',linewidth=2, label='mediana')\n",
        "plt.axvline(moda1,color='y',linestyle='dashed',linewidth=2, label='moda')\n",
        "plt.title(\"Produccion diaria de la Fabrica 1\")\n",
        "plt.show()"
      ],
      "metadata": {
        "colab": {
          "base_uri": "https://localhost:8080/",
          "height": 452
        },
        "id": "283N3iD5h80A",
        "outputId": "d61608f6-c363-4f30-92ed-44de57535309"
      },
      "execution_count": 20,
      "outputs": [
        {
          "output_type": "display_data",
          "data": {
            "text/plain": [
              "<Figure size 640x480 with 1 Axes>"
            ],
            "image/png": "[encoded data removed]"
          },
          "metadata": {}
        }
      ]
    },
    {
      "cell_type": "code",
      "source": [
        "plt.hist(fabrica2, bins=10, alpha=0.2,color='b',edgecolor=\"black\")\n",
        "plt.axvline(media2,color='b',linestyle='dashed',linewidth=2, label='media')\n",
        "plt.axvline(mediana2,color='r',linestyle='dashed',linewidth=2, label='mediana')\n",
        "plt.axvline(moda1,color='y',linestyle='dashed',linewidth=2, label='moda')\n",
        "plt.title(\"Produccion diaria de la Fabrica 1\")\n",
        "plt.show()"
      ],
      "metadata": {
        "colab": {
          "base_uri": "https://localhost:8080/",
          "height": 452
        },
        "id": "HB7QbVCPj8Bj",
        "outputId": "c7de995f-cc5f-42af-c7d9-bafa3e58aa71"
      },
      "execution_count": 21,
      "outputs": [
        {
          "output_type": "display_data",
          "data": {
            "text/plain": [
              "<Figure size 640x480 with 1 Axes>"
            ],
            "image/png": "[encoded data removed]"
          },
          "metadata": {}
        }
      ]
    }
  ]
}